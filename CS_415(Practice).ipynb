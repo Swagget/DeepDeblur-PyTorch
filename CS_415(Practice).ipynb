{
  "nbformat": 4,
  "nbformat_minor": 0,
  "metadata": {
    "colab": {
      "name": "CS-415(Practice).ipynb",
      "provenance": [],
      "collapsed_sections": [],
      "include_colab_link": true
    },
    "kernelspec": {
      "name": "python3",
      "display_name": "Python 3"
    },
    "language_info": {
      "name": "python"
    },
    "accelerator": "GPU"
  },
  "cells": [
    {
      "cell_type": "markdown",
      "metadata": {
        "id": "view-in-github",
        "colab_type": "text"
      },
      "source": [
        "<a href=\"https://colab.research.google.com/github/Swagget/DeepDeblur-PyTorch/blob/master/CS_415(Practice).ipynb\" target=\"_parent\"><img src=\"https://colab.research.google.com/assets/colab-badge.svg\" alt=\"Open In Colab\"/></a>"
      ]
    },
    {
      "cell_type": "code",
      "metadata": {
        "colab": {
          "base_uri": "https://localhost:8080/"
        },
        "id": "qpjPnuqA-ZpX",
        "outputId": "a6700030-6dd8-43d7-fbe9-be122a84e083"
      },
      "source": [
        "from google.colab import drive\n",
        "drive.mount('/content/drive')"
      ],
      "execution_count": null,
      "outputs": [
        {
          "output_type": "stream",
          "name": "stdout",
          "text": [
            "Mounted at /content/drive\n"
          ]
        }
      ]
    },
    {
      "cell_type": "code",
      "metadata": {
        "colab": {
          "base_uri": "https://localhost:8080/"
        },
        "id": "YQ-CatI6-7-0",
        "outputId": "0b57fb59-7df0-4030-a591-cea5b40d5b81"
      },
      "source": [
        "%cd drive/Shareddrives/Final/src"
      ],
      "execution_count": null,
      "outputs": [
        {
          "output_type": "stream",
          "name": "stdout",
          "text": [
            "/content/drive/Shareddrives/Final/src\n"
          ]
        }
      ]
    },
    {
      "cell_type": "code",
      "metadata": {
        "colab": {
          "base_uri": "https://localhost:8080/"
        },
        "id": "--6KWT-A--oj",
        "outputId": "9eff5ae9-1a84-423d-a715-f1c877249d9e"
      },
      "source": [
        "!ls"
      ],
      "execution_count": null,
      "outputs": [
        {
          "output_type": "stream",
          "name": "stdout",
          "text": [
            "data\t   loss     model  option.py\ttemplate.py  Untitled.ipynb\n",
            "launch.py  main.py  optim  __pycache__\ttrain.py     utils.py\n"
          ]
        }
      ]
    },
    {
      "cell_type": "code",
      "metadata": {
        "colab": {
          "base_uri": "https://localhost:8080/"
        },
        "id": "EvEbzWqmOMKp",
        "outputId": "c1b5bc59-9280-4860-f41b-56eaaa1df9e4"
      },
      "source": [
        "!python main.py --save_dir GOPRO_L1 --demo_input_dir /content/drive/Shareddrives/Final/Research/dataset/GOPRO_Large/test/GOPR0410_11_00/blur --demo_output_dir ../results/GOPRO_Large/test/GOPR0410_11_00/blur"
      ],
      "execution_count": null,
      "outputs": [
        {
          "output_type": "stream",
          "name": "stdout",
          "text": [
            "/usr/local/lib/python3.7/dist-packages/torch/utils/data/dataloader.py:481: UserWarning: This DataLoader will create 7 worker processes in total. Our suggested max number of worker in current system is 2, which is smaller than what this DataLoader is going to create. Please be aware that excessive worker creation might get DataLoader running slow or even freeze, lower the worker number to avoid potential slowness/freeze if necessary.\n",
            "  cpuset_checked))\n",
            "===> Loading demo dataset: Demo\n",
            "Loading model from ../experiment/GOPRO_L1/models/model-1000.pt\n",
            "Loading optimizer from ../experiment/GOPRO_L1/optim/optim-1000.pt\n",
            "Loss function: 1*L1\n",
            "Metrics: PSNR,SSIM\n",
            "Loading loss record from ../experiment/GOPRO_L1/loss.pt\n",
            "===> Initializing trainer\n",
            "results are saved in ../results/GOPRO_Large/test/GOPR0410_11_00/blur\n",
            "|█████████████████████████████████████████████| 134/134 [19:54<00:00,  8.91s/it]\n"
          ]
        }
      ]
    },
    {
      "cell_type": "code",
      "metadata": {
        "id": "7iMoYdHLHOaN"
      },
      "source": [
        ""
      ],
      "execution_count": null,
      "outputs": []
    }
  ]
}