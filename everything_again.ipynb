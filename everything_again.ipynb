{
  "nbformat": 4,
  "nbformat_minor": 0,
  "metadata": {
    "accelerator": "GPU",
    "colab": {
      "name": "everything_again.ipynb",
      "provenance": [],
      "collapsed_sections": [],
      "include_colab_link": true
    },
    "kernelspec": {
      "display_name": "Python 3",
      "name": "python3"
    },
    "language_info": {
      "name": "python"
    }
  },
  "cells": [
    {
      "cell_type": "markdown",
      "metadata": {
        "id": "view-in-github",
        "colab_type": "text"
      },
      "source": [
        "<a href=\"https://colab.research.google.com/github/Swagget/DeepDeblur-PyTorch/blob/master/everything_again.ipynb\" target=\"_parent\"><img src=\"https://colab.research.google.com/assets/colab-badge.svg\" alt=\"Open In Colab\"/></a>"
      ]
    },
    {
      "cell_type": "code",
      "metadata": {
        "colab": {
          "base_uri": "https://localhost:8080/"
        },
        "id": "-kRMnUpWSfLc",
        "outputId": "0c97887b-3410-42b6-ffe1-cd97b9f0f9cc"
      },
      "source": [
        "from google.colab import drive\n",
        "drive.mount('/content/gdrive', force_remount=True)"
      ],
      "execution_count": null,
      "outputs": [
        {
          "output_type": "stream",
          "name": "stdout",
          "text": [
            "Mounted at /content/gdrive\n"
          ]
        }
      ]
    },
    {
      "cell_type": "code",
      "metadata": {
        "colab": {
          "base_uri": "https://localhost:8080/"
        },
        "id": "cvuexxShwjw4",
        "outputId": "91ba94f6-4043-409d-a3b8-ccc77fb0235d"
      },
      "source": [
        "!pw"
      ],
      "execution_count": null,
      "outputs": [
        {
          "output_type": "stream",
          "name": "stdout",
          "text": [
            "shell-init: error retrieving current directory: getcwd: cannot access parent directories: Transport endpoint is not connected\n",
            "/bin/bash: pw: command not found\n"
          ]
        }
      ]
    },
    {
      "cell_type": "code",
      "metadata": {
        "colab": {
          "base_uri": "https://localhost:8080/"
        },
        "id": "qGeWVFcTanYo",
        "outputId": "e8057cf1-7e13-4665-d2ee-a5e5ba98c7f8"
      },
      "source": [
        "%ls gdrive/MyDrive/DeepDeblur-PyTorch-master/"
      ],
      "execution_count": null,
      "outputs": [
        {
          "output_type": "stream",
          "name": "stdout",
          "text": [
            "'Copy of everything.ipynb'   \u001b[0m\u001b[01;34mexperiment\u001b[0m/   README.md   \u001b[01;34msrc\u001b[0m/\n",
            " everything_again.ipynb      LICENSE       \u001b[01;34mResearch\u001b[0m/\n"
          ]
        }
      ]
    },
    {
      "cell_type": "code",
      "metadata": {
        "id": "pw5A_mEjTlsJ"
      },
      "source": [
        "#  = \"gdrive/Shareddrives/CV_project/DeepVideoDeblurring_Dataset/quantitative_datasets\"\n",
        "current_dataset = \"gdrive/Shareddrives/CV_project/DeepDeblur-PyTorch-master/Research/GOPRO_Large/test/GOPR0384_11_00.zip\""
      ],
      "execution_count": null,
      "outputs": []
    },
    {
      "cell_type": "code",
      "metadata": {
        "colab": {
          "base_uri": "https://localhost:8080/"
        },
        "id": "9JyWHNn2xtzF",
        "outputId": "51cc636d-68bc-4953-f7b5-3a1d6fb99646"
      },
      "source": [
        "%cd gdrive/MyDrive/DeepDeblur-PyTorch-master/"
      ],
      "execution_count": null,
      "outputs": [
        {
          "output_type": "stream",
          "name": "stdout",
          "text": [
            "/content/gdrive/MyDrive/DeepDeblur-PyTorch-master\n"
          ]
        }
      ]
    },
    {
      "cell_type": "code",
      "metadata": {
        "id": "RovU08VBbvGT"
      },
      "source": [
        "def python_move():\n",
        "  %cd gdrive/Shareddrives/CV_project/DeepDeblur-PyTorch-master"
      ],
      "execution_count": null,
      "outputs": []
    },
    {
      "cell_type": "code",
      "metadata": {
        "colab": {
          "base_uri": "https://localhost:8080/"
        },
        "id": "zsKPsdRlb1cq",
        "outputId": "dd38776d-3cb2-4ce5-f2d6-25ae72e1e370"
      },
      "source": [
        "python_move()"
      ],
      "execution_count": null,
      "outputs": [
        {
          "output_type": "stream",
          "name": "stdout",
          "text": [
            "/content/gdrive/Shareddrives/CV_project/DeepDeblur-PyTorch-master\n"
          ]
        }
      ]
    },
    {
      "cell_type": "code",
      "metadata": {
        "colab": {
          "base_uri": "https://localhost:8080/"
        },
        "id": "ab4NdOQ6b3gP",
        "outputId": "ad303c72-e879-4ffa-9baa-d6c6019abb3b"
      },
      "source": [
        "!ls"
      ],
      "execution_count": null,
      "outputs": [
        {
          "output_type": "stream",
          "name": "stdout",
          "text": [
            "'CV Project Report.gdoc'   everything.ipynb   Research\t src\n"
          ]
        }
      ]
    },
    {
      "cell_type": "code",
      "metadata": {
        "colab": {
          "base_uri": "https://localhost:8080/"
        },
        "id": "Nrspm7CUZdWx",
        "outputId": "5f6abe59-24bf-436f-893b-4cdc558d4d21"
      },
      "source": [
        "print(\"current_dataset : \", current_dataset)"
      ],
      "execution_count": null,
      "outputs": [
        {
          "output_type": "stream",
          "name": "stdout",
          "text": [
            "current_dataset :  gdrive/Shareddrives/CV_project/DeepDeblur-PyTorch-master/Research/GOPRO_Large/test/GOPR0384_11_00.zip\n"
          ]
        }
      ]
    },
    {
      "cell_type": "code",
      "metadata": {
        "id": "8vsmpxwHZBAj"
      },
      "source": [
        "# !unzip \"gdrive/Shareddrives/CV_project/DeepDeblur-PyTorch-master/Research/GOPRO_Large/test/GOPR0384_11_00.zip\" -d \"gdrive/Shareddrives/CV_project/DeepDeblur-PyTorch-master/Research/GOPRO_Large/test/GOPR0384_11_00/\""
      ],
      "execution_count": null,
      "outputs": []
    },
    {
      "cell_type": "code",
      "metadata": {
        "colab": {
          "base_uri": "https://localhost:8080/"
        },
        "id": "8ZncUybjxHHH",
        "outputId": "7a4bb926-69ba-4d2a-b3f6-c058013e6587"
      },
      "source": [
        "!python ./src/main.py --save_dir GOPRO_L1 --do_train false --do_test true --save_result all --dataset GOPRO_Large --load_epoch 1000 --start_epoch 1000 --end_epoch 1000"
      ],
      "execution_count": null,
      "outputs": [
        {
          "output_type": "stream",
          "name": "stdout",
          "text": [
            "/usr/local/lib/python3.7/dist-packages/torch/utils/data/dataloader.py:481: UserWarning: This DataLoader will create 7 worker processes in total. Our suggested max number of worker in current system is 2, which is smaller than what this DataLoader is going to create. Please be aware that excessive worker creation might get DataLoader running slow or even freeze, lower the worker number to avoid potential slowness/freeze if necessary.\n",
            "  cpuset_checked))\n",
            "===> Loading test dataset: GOPRO_Large\n",
            "Loading model from ../experiment/GOPRO_L1/models/model-1000.pt\n",
            "Traceback (most recent call last):\n",
            "  File \"./src/main.py\", line 67, in <module>\n",
            "    main()\n",
            "  File \"./src/main.py\", line 64, in main\n",
            "    main_worker(args.rank, args)\n",
            "  File \"./src/main.py\", line 16, in main_worker\n",
            "    model = Model(args)\n",
            "  File \"/content/gdrive/My Drive/DeepDeblur-PyTorch-master/src/model/__init__.py\", line 36, in __init__\n",
            "    self.load(args.load_epoch, path=args.pretrained)\n",
            "  File \"/content/gdrive/My Drive/DeepDeblur-PyTorch-master/src/model/__init__.py\", line 106, in load\n",
            "    state_dict = torch.load(model_name, map_location=self.args.device)\n",
            "  File \"/usr/local/lib/python3.7/dist-packages/torch/serialization.py\", line 594, in load\n",
            "    with _open_file_like(f, 'rb') as opened_file:\n",
            "  File \"/usr/local/lib/python3.7/dist-packages/torch/serialization.py\", line 230, in _open_file_like\n",
            "    return _open_file(name_or_buffer, mode)\n",
            "  File \"/usr/local/lib/python3.7/dist-packages/torch/serialization.py\", line 211, in __init__\n",
            "    super(_open_file, self).__init__(open(name, mode))\n",
            "FileNotFoundError: [Errno 2] No such file or directory: '../experiment/GOPRO_L1/models/model-1000.pt'\n"
          ]
        }
      ]
    },
    {
      "cell_type": "code",
      "metadata": {
        "colab": {
          "base_uri": "https://localhost:8080/"
        },
        "id": "SJFX91K4a-x6",
        "outputId": "885610ed-b419-4d7f-f4e7-2d5e2763292e"
      },
      "source": [
        "!python ./src/main.py --save_dir GOPRO_L1 --demo true --demo_input_dir ./Research/dataset/GOPRO_Large/test/GOPR0384_11_00/blur_gamma \n",
        "# This has the loss error which shows that training is happening. We need to only to evaluation first."
      ],
      "execution_count": null,
      "outputs": [
        {
          "output_type": "stream",
          "name": "stdout",
          "text": [
            "/usr/local/lib/python3.7/dist-packages/torch/utils/data/dataloader.py:481: UserWarning: This DataLoader will create 7 worker processes in total. Our suggested max number of worker in current system is 2, which is smaller than what this DataLoader is going to create. Please be aware that excessive worker creation might get DataLoader running slow or even freeze, lower the worker number to avoid potential slowness/freeze if necessary.\n",
            "  cpuset_checked))\n",
            "===> Loading demo dataset: Demo\n",
            "Loading model from ../experiment/GOPRO_L1/models/model-1000.pt\n",
            "Loading optimizer from ../experiment/GOPRO_L1/optim/optim-1000.pt\n",
            "Loss function: 1*L1\n",
            "Metrics: PSNR,SSIM\n",
            "Loading loss record from ../experiment/GOPRO_L1/loss.pt\n",
            "===> Initializing trainer\n",
            "results are saved in ../experiment/GOPRO_L1/result\n",
            "|                                                         | 0/0 [00:00<?, ?it/s]\n",
            "Traceback (most recent call last):\n",
            "  File \"./src/main.py\", line 67, in <module>\n",
            "    main()\n",
            "  File \"./src/main.py\", line 64, in main\n",
            "    main_worker(args.rank, args)\n",
            "  File \"./src/main.py\", line 29, in main_worker\n",
            "    trainer.evaluate(epoch=args.start_epoch, mode='demo')\n",
            "  File \"/content/gdrive/Shareddrives/CV_project/DeepDeblur-PyTorch-master/src/train.py\", line 182, in evaluate\n",
            "    tq.set_description(self.criterion.get_loss_desc())\n",
            "  File \"/content/gdrive/Shareddrives/CV_project/DeepDeblur-PyTorch-master/src/loss/__init__.py\", line 311, in get_loss_desc\n",
            "    loss = self.loss_stat[self.mode]['Total'][self.epoch]\n",
            "KeyError: 1001\n"
          ]
        }
      ]
    },
    {
      "cell_type": "code",
      "metadata": {
        "colab": {
          "base_uri": "https://localhost:8080/"
        },
        "id": "alLdPvQ-u5X7",
        "outputId": "6700494e-70ec-4e61-f3f0-7a171fb2de40"
      },
      "source": [
        "!python ./src/main.py --save_dir GOPRO_L1 --demo_input_dir ./Research/GOPRO_Large/test/GOPR0384_11_00/blur_gamma --demo_output_dir ../results/GOPRO_Large\\test\\GOPR0384_11_00\\blur_gamma --device_type cpu"
      ],
      "execution_count": null,
      "outputs": [
        {
          "output_type": "stream",
          "name": "stdout",
          "text": [
            "python3: can't open file 'main.py': [Errno 2] No such file or directory\n"
          ]
        }
      ]
    },
    {
      "cell_type": "code",
      "metadata": {
        "colab": {
          "base_uri": "https://localhost:8080/"
        },
        "id": "yLefBMy0blX6",
        "outputId": "493d5f60-0833-44f1-cc9b-1c680a4788d7"
      },
      "source": [
        "!python src/main.py --save_dir GOPRO_L1 --do_train false --do_test true --save_results all --dataset GOPRO_Large"
      ],
      "execution_count": null,
      "outputs": [
        {
          "output_type": "stream",
          "name": "stdout",
          "text": [
            "/usr/local/lib/python3.7/dist-packages/torch/utils/data/dataloader.py:481: UserWarning: This DataLoader will create 7 worker processes in total. Our suggested max number of worker in current system is 2, which is smaller than what this DataLoader is going to create. Please be aware that excessive worker creation might get DataLoader running slow or even freeze, lower the worker number to avoid potential slowness/freeze if necessary.\n",
            "  cpuset_checked))\n",
            "===> Loading test dataset: GOPRO_Large\n",
            "Loading model from ../experiment/GOPRO_L1/models/model-1000.pt\n",
            "Loading optimizer from ../experiment/GOPRO_L1/optim/optim-1000.pt\n",
            "Loss function: 1*L1\n",
            "Metrics: PSNR,SSIM\n",
            "Loading loss record from ../experiment/GOPRO_L1/loss.pt\n",
            "===> Initializing trainer\n",
            "results are saved in ../experiment/GOPRO_L1/result\n"
          ]
        }
      ]
    },
    {
      "cell_type": "code",
      "metadata": {
        "colab": {
          "base_uri": "https://localhost:8080/"
        },
        "id": "kcsjaLfUnm6U",
        "outputId": "2ae6b862-4986-471e-b44e-d40b5ec9c89b"
      },
      "source": [
        "!python src/main.py --save_dir GOPRO_L1 --do_train false --do_test true --save_result all --dataset GOPRO_Large --load_epoch 1000 --start_epoch 1000 --end_epoch 1000\n"
      ],
      "execution_count": null,
      "outputs": [
        {
          "output_type": "stream",
          "name": "stdout",
          "text": [
            "/usr/local/lib/python3.7/dist-packages/torch/utils/data/dataloader.py:481: UserWarning: This DataLoader will create 7 worker processes in total. Our suggested max number of worker in current system is 2, which is smaller than what this DataLoader is going to create. Please be aware that excessive worker creation might get DataLoader running slow or even freeze, lower the worker number to avoid potential slowness/freeze if necessary.\n",
            "  cpuset_checked))\n",
            "===> Loading test dataset: GOPRO_Large\n",
            "Loading model from ../experiment/GOPRO_L1/models/model-1000.pt\n",
            "Loading optimizer from ../experiment/GOPRO_L1/optim/optim-1000.pt\n",
            "Loss function: 1*L1\n",
            "Metrics: PSNR,SSIM\n",
            "Loading loss record from ../experiment/GOPRO_L1/loss.pt\n",
            "===> Initializing trainer\n",
            "results are saved in ../experiment/GOPRO_L1/result\n",
            "|                                                         | 0/0 [00:00<?, ?it/s]\n",
            "Test Loss: 12.2 PSNR: 30.40 SSIM: 0.9017: |               | 0/0 [00:00<?, ?it/s]\n",
            "\n"
          ]
        }
      ]
    },
    {
      "cell_type": "code",
      "metadata": {
        "colab": {
          "base_uri": "https://localhost:8080/"
        },
        "id": "FZik0xUkpHwz",
        "outputId": "4cd5bd93-3af6-474a-e01c-d60d70c90e71"
      },
      "source": [
        "!ls Research/"
      ],
      "execution_count": null,
      "outputs": [
        {
          "output_type": "stream",
          "name": "stdout",
          "text": [
            "GOPRO_Large\n"
          ]
        }
      ]
    },
    {
      "cell_type": "code",
      "metadata": {
        "id": "QfqDYF6FrRTn"
      },
      "source": [
        "!mv Research/GOPRO_Large\\ \\(1\\) Research/GOPRO_Large"
      ],
      "execution_count": null,
      "outputs": []
    },
    {
      "cell_type": "code",
      "metadata": {
        "colab": {
          "base_uri": "https://localhost:8080/"
        },
        "id": "pQRZqOFnrqpl",
        "outputId": "d12bd4ed-1f0d-4cd1-af01-b1241c84cd5d"
      },
      "source": [
        "!python src/main.py --save_dir GOPRO_L1 --demo true --demo_input_dir /content/drive/MyDrive/Ampviv/deblur/nah/DeepDeblur-PyTorch-master/dataset/GOPRO_Large/test/GOPR0384_11_00/blur_gamma"
      ],
      "execution_count": null,
      "outputs": [
        {
          "output_type": "stream",
          "name": "stdout",
          "text": [
            "/usr/local/lib/python3.7/dist-packages/torch/utils/data/dataloader.py:481: UserWarning: This DataLoader will create 7 worker processes in total. Our suggested max number of worker in current system is 2, which is smaller than what this DataLoader is going to create. Please be aware that excessive worker creation might get DataLoader running slow or even freeze, lower the worker number to avoid potential slowness/freeze if necessary.\n",
            "  cpuset_checked))\n",
            "===> Loading demo dataset: Demo\n",
            "Loading model from ../experiment/GOPRO_L1/models/model-1000.pt\n",
            "Loading optimizer from ../experiment/GOPRO_L1/optim/optim-1000.pt\n",
            "Loss function: 1*L1\n",
            "Metrics: PSNR,SSIM\n",
            "Loading loss record from ../experiment/GOPRO_L1/loss.pt\n",
            "===> Initializing trainer\n",
            "results are saved in ../experiment/GOPRO_L1/result\n",
            "|                                                         | 0/0 [00:00<?, ?it/s]\n",
            "Traceback (most recent call last):\n",
            "  File \"src/main.py\", line 67, in <module>\n",
            "    main()\n",
            "  File \"src/main.py\", line 64, in main\n",
            "    main_worker(args.rank, args)\n",
            "  File \"src/main.py\", line 29, in main_worker\n",
            "    trainer.evaluate(epoch=args.start_epoch, mode='demo')\n",
            "  File \"/content/gdrive/Shareddrives/CV_project/DeepDeblur-PyTorch-master/src/train.py\", line 182, in evaluate\n",
            "    tq.set_description(self.criterion.get_loss_desc())\n",
            "  File \"/content/gdrive/Shareddrives/CV_project/DeepDeblur-PyTorch-master/src/loss/__init__.py\", line 311, in get_loss_desc\n",
            "    loss = self.loss_stat[self.mode]['Total'][self.epoch]\n",
            "KeyError: 1001\n"
          ]
        }
      ]
    },
    {
      "cell_type": "code",
      "metadata": {
        "id": "YjMDLCxrvHoc",
        "colab": {
          "base_uri": "https://localhost:8080/"
        },
        "outputId": "36d3645b-92fc-4101-a926-126957162478"
      },
      "source": [
        "!python ./src/main.py --save_dir GOPRO_L1 --demo_input_dir ./Research/GOPRO_Large/test/GOPR0384_11_00/blur_gamma --demo_output_dir ../results/GOPRO_Large\\test\\GOPR0384_11_00\\blur_gamma --device_type cpu"
      ],
      "execution_count": null,
      "outputs": [
        {
          "output_type": "stream",
          "name": "stdout",
          "text": [
            "/usr/local/lib/python3.7/dist-packages/torch/utils/data/dataloader.py:481: UserWarning: This DataLoader will create 7 worker processes in total. Our suggested max number of worker in current system is 2, which is smaller than what this DataLoader is going to create. Please be aware that excessive worker creation might get DataLoader running slow or even freeze, lower the worker number to avoid potential slowness/freeze if necessary.\n",
            "  cpuset_checked))\n",
            "===> Loading demo dataset: Demo\n",
            "Loading model from ../experiment/GOPRO_L1/models/model-1000.pt\n",
            "Loading optimizer from ../experiment/GOPRO_L1/optim/optim-1000.pt\n",
            "Loss function: 1*L1\n",
            "Metrics: PSNR,SSIM\n",
            "Loading loss record from ../experiment/GOPRO_L1/loss.pt\n",
            "===> Initializing trainer\n",
            "results are saved in ../results/GOPRO_LargetestGOPR0384_11_00blur_gamma\n",
            "|                                                         | 0/0 [00:00<?, ?it/s]\n",
            "Traceback (most recent call last):\n",
            "  File \"./src/main.py\", line 67, in <module>\n",
            "    main()\n",
            "  File \"./src/main.py\", line 64, in main\n",
            "    main_worker(args.rank, args)\n",
            "  File \"./src/main.py\", line 29, in main_worker\n",
            "    trainer.evaluate(epoch=args.start_epoch, mode='demo')\n",
            "  File \"/content/gdrive/Shareddrives/CV_project/DeepDeblur-PyTorch-master/src/train.py\", line 182, in evaluate\n",
            "    tq.set_description(self.criterion.get_loss_desc())\n",
            "  File \"/content/gdrive/Shareddrives/CV_project/DeepDeblur-PyTorch-master/src/loss/__init__.py\", line 311, in get_loss_desc\n",
            "    loss = self.loss_stat[self.mode]['Total'][self.epoch]\n",
            "KeyError: 1001\n"
          ]
        }
      ]
    }
  ]
}